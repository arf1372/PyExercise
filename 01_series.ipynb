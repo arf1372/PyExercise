{
 "cells": [
  {
   "cell_type": "markdown",
   "id": "1cb4ad7b-5050-4ba7-85ac-9b8bdc083c78",
   "metadata": {},
   "source": [
    "# Python Exercises - 1<sup>st</sup> Series"
   ]
  },
  {
   "cell_type": "markdown",
   "id": "7c44cc53-5916-403a-96a4-81fd07932a79",
   "metadata": {},
   "source": [
    "## Problem 1\n",
    "\n",
    "Write a program which adds two numbers together and returns the result. You have to use just `+= 1` and `-= 1` operators and you could just\n",
    "do zero equality condition check (e.g. `== 0`)\n",
    "\n",
    "**Note:** `a` and `b` are **non-negaive!**"
   ]
  },
  {
   "cell_type": "code",
   "execution_count": 5,
   "id": "c9dfc9e9-cda6-43a5-91bb-d296dcc1fa10",
   "metadata": {},
   "outputs": [
    {
     "data": {
      "text/plain": [
       "2"
      ]
     },
     "execution_count": 5,
     "metadata": {},
     "output_type": "execute_result"
    }
   ],
   "source": [
    "def hard_work_positive_add(a: int, b: int) -> int:\n",
    "    while not b == 0:\n",
    "        a += 1\n",
    "        b -= 1\n",
    "    \n",
    "    return a\n",
    "\n",
    "hard_work_positive_add(2,0)"
   ]
  },
  {
   "cell_type": "markdown",
   "id": "98fe42ba-64cd-4d77-88cc-cce3f9a0d5ab",
   "metadata": {},
   "source": [
    "## Problem 2\n",
    "\n",
    "Extend above code to support negative numbers."
   ]
  },
  {
   "cell_type": "code",
   "execution_count": 9,
   "id": "eceb38da-609b-4676-9628-225a2a6547c0",
   "metadata": {},
   "outputs": [
    {
     "data": {
      "text/plain": [
       "False"
      ]
     },
     "execution_count": 9,
     "metadata": {},
     "output_type": "execute_result"
    }
   ],
   "source": [
    "def hard_work_is_positive_or_zero(a: int) -> bool:\n",
    "    b = a\n",
    "    while (not a == 0) and (not b == 0):\n",
    "        a -= 1 \n",
    "        b += 1\n",
    "\n",
    "    if a == 0:\n",
    "        return True\n",
    "    if b == 0:\n",
    "        return False\n",
    "\n",
    "hard_work_is_positive_or_zero(-1)"
   ]
  },
  {
   "cell_type": "code",
   "execution_count": 13,
   "id": "1403ae8c-789e-43be-a93f-ffe787c6005a",
   "metadata": {},
   "outputs": [],
   "source": [
    "def hard_work_add(a: int, b: int) -> int:\n",
    "    res = 0\n",
    "    if hard_work_is_positive_or_zero(b):\n",
    "        res = hard_work_positive_add(a, b)\n",
    "    else:\n",
    "        while not b == 0:\n",
    "            a -= 1\n",
    "            b += 1\n",
    "        res = a\n",
    "    return res"
   ]
  },
  {
   "cell_type": "code",
   "execution_count": 22,
   "id": "eec0058f-68b5-48a8-9e38-bfc74bcf6b21",
   "metadata": {},
   "outputs": [
    {
     "data": {
      "text/plain": [
       "-1"
      ]
     },
     "execution_count": 22,
     "metadata": {},
     "output_type": "execute_result"
    }
   ],
   "source": [
    "assert hard_work_add(0,0) == 0\n",
    "assert hard_work_add(1,0) == 1\n",
    "hard_work_add(-1,0)\n",
    "hard_work_add(-2,0)\n",
    "hard_work_add(0,1)\n",
    "hard_work_add(0,-1)\n",
    "hard_work_add(-1,1)\n",
    "hard_work_add(1,-1)\n",
    "hard_work_add(1,1)\n",
    "hard_work_add(-1,-1)"
   ]
  },
  {
   "cell_type": "markdown",
   "id": "30e6b712-bb08-4341-89ac-b8a0f4215d2a",
   "metadata": {},
   "source": [
    "$ a + b = a - |b| \\; (b\\lt 0)$"
   ]
  },
  {
   "cell_type": "markdown",
   "id": "7f7a3b14-4c9f-49ae-93a0-a6c1a64b4952",
   "metadata": {},
   "source": [
    "lkjdf;ldfsj;ldaf "
   ]
  },
  {
   "cell_type": "code",
   "execution_count": 12,
   "id": "d06e89d7-b475-4636-ae35-c73d6897feb7",
   "metadata": {},
   "outputs": [
    {
     "data": {
      "text/plain": [
       "True"
      ]
     },
     "execution_count": 12,
     "metadata": {},
     "output_type": "execute_result"
    }
   ],
   "source": [
    "def f():\n",
    "    pass\n",
    "\n",
    "f() is None"
   ]
  },
  {
   "cell_type": "markdown",
   "id": "754224d2-8513-4b49-a163-c7cb02857260",
   "metadata": {
    "tags": []
   },
   "source": [
    "## Problem 3\n",
    "\n",
    "Write a code which gets `x` and `n` respectively and computes `S` as:\n",
    "$$ S_n(x) = \\sum_{i=0}^{n} {\\frac{1}{x^i}} $$\n",
    "\n",
    "$x\\in\\mathbb{R}-\\{0\\}$ and $n\\in\\omega$"
   ]
  },
  {
   "cell_type": "code",
   "execution_count": null,
   "id": "89ec1766-c995-4aeb-8768-174137e5e37e",
   "metadata": {},
   "outputs": [],
   "source": [
    "1 / 1 + 1 / 2"
   ]
  },
  {
   "cell_type": "code",
   "execution_count": 36,
   "id": "157de240-6b25-41ef-aed4-c6824a0bc7d5",
   "metadata": {},
   "outputs": [],
   "source": [
    "def compute_series(x: float, n: int) -> float:\n",
    "    assert x != 0\n",
    "    res = 0\n",
    "    for i in range(n+1):\n",
    "        res += 1 / (x**i)\n",
    "    return res"
   ]
  },
  {
   "cell_type": "code",
   "execution_count": 33,
   "id": "8a581ef0-a568-4032-830b-54d1674e7734",
   "metadata": {},
   "outputs": [],
   "source": [
    "def compute_series_alt(x: float, n: int) -> float:\n",
    "    return sum((1/(x**i)) for i in range(n+1))"
   ]
  },
  {
   "cell_type": "code",
   "execution_count": 37,
   "id": "53e25e91-721f-4454-9717-2d9b78a21d13",
   "metadata": {},
   "outputs": [
    {
     "data": {
      "text/plain": [
       "1.5"
      ]
     },
     "execution_count": 37,
     "metadata": {},
     "output_type": "execute_result"
    }
   ],
   "source": [
    "compute_series_alt(2,1)"
   ]
  },
  {
   "cell_type": "code",
   "execution_count": 40,
   "id": "fb3003e0-3f73-41c8-ad25-acf399b19145",
   "metadata": {},
   "outputs": [
    {
     "name": "stdout",
     "output_type": "stream",
     "text": [
      "2.0\n"
     ]
    }
   ],
   "source": [
    "x, n = 1,1\n",
    "try:\n",
    "    print(compute_series(x, n))\n",
    "except ZeroDivisionError:\n",
    "    print(\"EXCEPTION\")"
   ]
  },
  {
   "cell_type": "markdown",
   "id": "bc620fe6-1678-4069-80ec-10a2fd5007b7",
   "metadata": {},
   "source": [
    "## Problem 4\n",
    "\n",
    "Compute `fibonacci` number `n`:\n",
    "$$ fib(n) = fib(n-1) + fib(n-2)$$\n",
    "$$ fib(1) = 1, fib(0) = 0$$\n",
    "And $n\\in\\omega$"
   ]
  },
  {
   "cell_type": "code",
   "execution_count": 41,
   "id": "810ed69a-e1f0-4920-837e-b6a736dce350",
   "metadata": {},
   "outputs": [],
   "source": [
    "def fib(n: int) -> int:\n",
    "    if n == 0: return 0\n",
    "    if n == 1: return 1\n",
    "    \n",
    "    return fib(n-1)+fib(n-2)"
   ]
  },
  {
   "cell_type": "code",
   "execution_count": 47,
   "id": "31f8afa1-c6c9-4653-956b-04c045a1b90d",
   "metadata": {},
   "outputs": [],
   "source": [
    "def fib_fast(n: int) -> int:\n",
    "    a, b = 0, 1\n",
    "    # a1, a2, a3, a4\n",
    "    for _ in range(n):\n",
    "        b, a = a + b, b\n",
    "        \n",
    "    return a"
   ]
  },
  {
   "cell_type": "code",
   "execution_count": 54,
   "id": "ffcfb6d5-ab8a-4f0a-b430-adb8e1619c6f",
   "metadata": {},
   "outputs": [
    {
     "data": {
      "text/plain": [
       "354224848179261915075"
      ]
     },
     "execution_count": 54,
     "metadata": {},
     "output_type": "execute_result"
    }
   ],
   "source": [
    "# 0, 1, 2, 3, 4, 5, 6,  7,  8,  9, 10, 11,  12, ...\n",
    "# 0, 1, 1, 2, 3, 5, 8, 13, 21, 34, 55, 89, 144, ...\n",
    "fib_fast(100)"
   ]
  },
  {
   "cell_type": "markdown",
   "id": "79a83a41-02b1-4c9e-a748-2a8ec0be03a5",
   "metadata": {},
   "source": [
    "## Problem 5\n",
    "\n",
    "Compute `fibofac` as follosw:\n",
    "$$ fibofac(n) = fibofac(n-1)! + fibofac(n-2)!$$\n",
    "$$ fibofac(0) = 0, fibofac(1) = 1$$"
   ]
  },
  {
   "cell_type": "code",
   "execution_count": null,
   "id": "2d4014df-52c4-429c-800d-178deb39186d",
   "metadata": {},
   "outputs": [],
   "source": [
    "def fibofac(n: int) -> int:\n",
    "    pass"
   ]
  }
 ],
 "metadata": {
  "kernelspec": {
   "display_name": "Python 3 (ipykernel)",
   "language": "python",
   "name": "python3"
  },
  "language_info": {
   "codemirror_mode": {
    "name": "ipython",
    "version": 3
   },
   "file_extension": ".py",
   "mimetype": "text/x-python",
   "name": "python",
   "nbconvert_exporter": "python",
   "pygments_lexer": "ipython3",
   "version": "3.9.7"
  }
 },
 "nbformat": 4,
 "nbformat_minor": 5
}
