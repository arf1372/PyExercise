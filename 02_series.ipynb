{
 "cells": [
  {
   "cell_type": "markdown",
   "id": "b33163f7-fe58-4145-acb5-9c3e83da2ab5",
   "metadata": {},
   "source": [
    "# Python Exercises - 2<sup>nd</sup> Series"
   ]
  },
  {
   "cell_type": "markdown",
   "id": "37dbc3be-b9f8-403a-b916-f2bd91aba37f",
   "metadata": {},
   "source": [
    "## Problem 6\n",
    "\n",
    "A `Stack` is a type of datastructure which supports just two operations `push(x)` and `pop()`.\n",
    "It's like a long series of books on your desk (or dirty dishes in your sink! 😂). As you may notice, you just can add on top of the serie or\n",
    "remove from the last added one from the top. these two operations are `push(x)` and `pop()` respectively.\n",
    "\n",
    "Write an object oriented code which implements `Stack` structure.\n",
    "\n",
    "**Note:** to being modular, write this program in a separate module/file."
   ]
  },
  {
   "cell_type": "code",
   "execution_count": null,
   "id": "eba2157a-50a1-49cd-a6ec-c32a43c0dfeb",
   "metadata": {},
   "outputs": [],
   "source": [
    "import my_stack\n",
    "\n",
    "stack = my_stack.Stack()\n",
    "stack.push('Are')\n",
    "stack.push('You')\n",
    "stack.pop()\n",
    "stack.pop()\n",
    "stack.push(':)')\n",
    "stack.push('guys?')\n",
    "stacl.push('happy')\n",
    "stack.pop()\n",
    "stack.pop()\n",
    "stack.pop()"
   ]
  },
  {
   "cell_type": "markdown",
   "id": "c52e3b02-9cc5-489b-ab32-6667949bc1df",
   "metadata": {},
   "source": [
    "## Problem 7\n",
    "\n",
    "A word is *Palinderom* iff it equals to its reverse!  \n",
    "E.g.  \n",
    "`level` is palinderom but `salad` is not.\n",
    "\n",
    "Write three different code to find palinderoms! (*hint: one recursive, one iterative and one using an `stack`)*"
   ]
  },
  {
   "cell_type": "code",
   "execution_count": null,
   "id": "e206ec5e-9503-4b97-b3de-157374081bcf",
   "metadata": {},
   "outputs": [],
   "source": [
    "def is_palindrom(s: str) -> bool:\n",
    "    pass"
   ]
  },
  {
   "cell_type": "markdown",
   "id": "2d75a294-6e58-4101-877c-6a59ba12f97b",
   "metadata": {},
   "source": [
    "## Problem 8\n",
    "\n",
    "Write a simple contact list program using dictionaries and classes."
   ]
  }
 ],
 "metadata": {
  "kernelspec": {
   "display_name": "Python 3 (ipykernel)",
   "language": "python",
   "name": "python3"
  },
  "language_info": {
   "codemirror_mode": {
    "name": "ipython",
    "version": 3
   },
   "file_extension": ".py",
   "mimetype": "text/x-python",
   "name": "python",
   "nbconvert_exporter": "python",
   "pygments_lexer": "ipython3",
   "version": "3.9.7"
  }
 },
 "nbformat": 4,
 "nbformat_minor": 5
}
