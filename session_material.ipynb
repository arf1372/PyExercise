{
 "cells": [
  {
   "cell_type": "code",
   "execution_count": 16,
   "id": "bdfef683-3a41-4e21-808f-88cb422b91d1",
   "metadata": {},
   "outputs": [],
   "source": [
    "def range_(n1: int, n2=None, step=1):\n",
    "    if n2 is None:\n",
    "        n2, n1 = n1, 0\n",
    "    while n1 == n2:\n",
    "        yield n1\n",
    "        n1 += step"
   ]
  },
  {
   "cell_type": "code",
   "execution_count": 19,
   "id": "0170a057-00b4-4a04-adce-8e68e6fe77e1",
   "metadata": {},
   "outputs": [],
   "source": [
    "for i in range_(10,1,-2):\n",
    "    print(i)"
   ]
  },
  {
   "cell_type": "code",
   "execution_count": null,
   "id": "7be68ed9-1e52-4c7b-997d-65a3ae9c55f4",
   "metadata": {},
   "outputs": [],
   "source": [
    "class A(object):\n",
    "    pass"
   ]
  },
  {
   "cell_type": "code",
   "execution_count": null,
   "id": "0211eb10-32f8-4fa8-8d8b-2cc9d21982d3",
   "metadata": {},
   "outputs": [],
   "source": [
    "class B(A): # B is-a A\n",
    "    pass"
   ]
  },
  {
   "cell_type": "code",
   "execution_count": null,
   "id": "f6e39f43-0a8c-416b-869a-c085f62a06f4",
   "metadata": {},
   "outputs": [],
   "source": [
    "class Person(object):\n",
    "    age: int\n",
    "    name: (first: str, last: str)\n",
    "\n",
    "class Employee(Person): # is a Person\n",
    "    age: int\n",
    "    name: (first: str, last: str)\n",
    "    salary: int"
   ]
  },
  {
   "cell_type": "code",
   "execution_count": null,
   "id": "45be0a94-db37-4e83-88f5-a9de47459656",
   "metadata": {},
   "outputs": [],
   "source": [
    "class C(object):\n",
    "    pass"
   ]
  },
  {
   "cell_type": "code",
   "execution_count": 12,
   "id": "de62c02b-0aa4-458b-bd25-7fb631fcc30c",
   "metadata": {},
   "outputs": [],
   "source": [
    "from abc import ABC, abstractmethod\n",
    "\n",
    "class Shape(ABC):\n",
    "    shape_id = 0\n",
    "    \n",
    "    def __init__(self, color='Black'):\n",
    "        # print(\"Shape constructor called!\")\n",
    "        self.color = color\n",
    "        \n",
    "    def __str__(self, ):\n",
    "        return f\"Shape is {self.color}\"\n",
    "\n",
    "\n",
    "class Rectangle(Shape):\n",
    "    def __init__(self, width, height, color='Black'):\n",
    "        # You can also type `super(Rectangle, self)`\n",
    "        super().__init__(color)\n",
    "\n",
    "        # print(\"Rectangle constructor called!\")\n",
    "        self.width = width\n",
    "        self.height = height\n",
    "    \n",
    "    def __str__(self,):\n",
    "        return f\"Rectangle is {self.color}\""
   ]
  },
  {
   "cell_type": "code",
   "execution_count": 13,
   "id": "9c68ce07-56fc-4c3e-80f6-d16d58c4ba99",
   "metadata": {},
   "outputs": [],
   "source": [
    "class Color(object):\n",
    "    def __init__(self, name, hex_code, rgb):\n",
    "        self.name = name\n",
    "        self.hex_code = hex_code\n",
    "        self.rgb = rgb\n",
    "        \n",
    "    def __str__(self):\n",
    "        return f\"rgb({self.rgb})\"\n",
    "    \n",
    "    def __repr__(self):\n",
    "        return f\"{self.name} | (#{self.hex_code}) | RGB: {self.rgb}\""
   ]
  },
  {
   "cell_type": "code",
   "execution_count": 14,
   "id": "68eca108-9a5f-463a-a2dc-3f7cad095ac1",
   "metadata": {},
   "outputs": [
    {
     "name": "stdout",
     "output_type": "stream",
     "text": [
      "rectangle_1: Rectangle is green\n"
     ]
    }
   ],
   "source": [
    "rectangle_1 = Rectangle(10, 20, \"green\")\n",
    "print(f\"rectangle_1: {rectangle_1}\")"
   ]
  },
  {
   "cell_type": "code",
   "execution_count": 15,
   "id": "973e87e6-0812-48e7-9923-c5034d1ff472",
   "metadata": {},
   "outputs": [
    {
     "name": "stdout",
     "output_type": "stream",
     "text": [
      "rectangle_2: Rectangle is rgb((0, 255, 0))\n"
     ]
    }
   ],
   "source": [
    "rect_color = Color(\"Green\", \"00ff00\", (0, 255, 0))\n",
    "rectangle_2 = Rectangle(20, 30, rect_color)\n",
    "print(f\"rectangle_2: {rectangle_2}\")"
   ]
  },
  {
   "cell_type": "markdown",
   "id": "4259fcfd-2c4b-4d50-a56e-0324900c8625",
   "metadata": {},
   "source": [
    "- Inheritance  \n",
    "    is-a\n",
    "- Composition\n",
    "    has-a"
   ]
  }
 ],
 "metadata": {
  "kernelspec": {
   "display_name": "Python 3 (ipykernel)",
   "language": "python",
   "name": "python3"
  },
  "language_info": {
   "codemirror_mode": {
    "name": "ipython",
    "version": 3
   },
   "file_extension": ".py",
   "mimetype": "text/x-python",
   "name": "python",
   "nbconvert_exporter": "python",
   "pygments_lexer": "ipython3",
   "version": "3.9.7"
  }
 },
 "nbformat": 4,
 "nbformat_minor": 5
}
